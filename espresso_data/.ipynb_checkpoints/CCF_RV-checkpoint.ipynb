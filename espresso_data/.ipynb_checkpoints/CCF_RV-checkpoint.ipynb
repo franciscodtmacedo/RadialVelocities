{
 "cells": [
  {
   "cell_type": "markdown",
   "id": "9f2a4c00",
   "metadata": {},
   "source": [
    "## 1"
   ]
  },
  {
   "cell_type": "code",
   "execution_count": 4,
   "id": "7669ec3c",
   "metadata": {},
   "outputs": [
    {
     "name": "stdout",
     "output_type": "stream",
     "text": [
      "-16.6486326637339\n",
      "8.3746237634394e-05\n"
     ]
    }
   ],
   "source": [
    "import numpy as np\n",
    "from astropy.io import fits\n",
    "\n",
    "data = fits.getheader(\"1/r.ESPRE.2022-07-06T09_27_30.199_CCF_A.fits\")\n",
    "RV = data[\"HIERARCH ESO QC CCF RV\"]\n",
    "error = data[\"HIERARCH ESO QC CCF RV ERROR\"]\n",
    "print(RV)\n",
    "print(error)"
   ]
  },
  {
   "cell_type": "markdown",
   "id": "e66d1f48",
   "metadata": {},
   "source": [
    "## 2"
   ]
  },
  {
   "cell_type": "code",
   "execution_count": 5,
   "id": "465b6c0a",
   "metadata": {},
   "outputs": [
    {
     "name": "stdout",
     "output_type": "stream",
     "text": [
      "-16.646123709192\n",
      "0.000108262586539199\n"
     ]
    }
   ],
   "source": [
    "data = fits.getheader(\"2/r.ESPRE.2021-12-26T00_16_37.719_CCF_A.fits\")\n",
    "RV = data[\"HIERARCH ESO QC CCF RV\"]\n",
    "error = data[\"HIERARCH ESO QC CCF RV ERROR\"]\n",
    "print(RV)\n",
    "print(error)"
   ]
  },
  {
   "cell_type": "markdown",
   "id": "0543907b",
   "metadata": {},
   "source": [
    "## 3"
   ]
  },
  {
   "cell_type": "code",
   "execution_count": 6,
   "id": "6093aa90",
   "metadata": {},
   "outputs": [
    {
     "name": "stdout",
     "output_type": "stream",
     "text": [
      "-16.6472834284326\n",
      "9.83589859648827e-05\n"
     ]
    }
   ],
   "source": [
    "data = fits.getheader(\"3/r.ESPRE.2022-01-27T00_47_22.951_CCF_A.fits\")\n",
    "RV = data[\"HIERARCH ESO QC CCF RV\"]\n",
    "error = data[\"HIERARCH ESO QC CCF RV ERROR\"]\n",
    "print(RV)\n",
    "print(error)"
   ]
  },
  {
   "cell_type": "markdown",
   "id": "67123aeb",
   "metadata": {},
   "source": [
    "## 4"
   ]
  },
  {
   "cell_type": "code",
   "execution_count": 7,
   "id": "8d067761",
   "metadata": {},
   "outputs": [
    {
     "name": "stdout",
     "output_type": "stream",
     "text": [
      "-16.6466334946945\n",
      "0.000111158607268523\n"
     ]
    }
   ],
   "source": [
    "data = fits.getheader(\"4/r.ESPRE.2022-02-13T00_35_11.355_CCF_A.fits\")\n",
    "RV = data[\"HIERARCH ESO QC CCF RV\"]\n",
    "error = data[\"HIERARCH ESO QC CCF RV ERROR\"]\n",
    "print(RV)\n",
    "print(error)"
   ]
  },
  {
   "cell_type": "markdown",
   "id": "1198cacb",
   "metadata": {},
   "source": [
    "## 5"
   ]
  },
  {
   "cell_type": "code",
   "execution_count": 8,
   "id": "5ae28a92",
   "metadata": {
    "scrolled": true
   },
   "outputs": [
    {
     "name": "stdout",
     "output_type": "stream",
     "text": [
      "-16.6482856364796\n",
      "0.000123709214790978\n"
     ]
    }
   ],
   "source": [
    "data = fits.getheader(\"5/r.ESPRE.2022-06-14T09_05_42.021_CCF_A.fits\")\n",
    "RV = data[\"HIERARCH ESO QC CCF RV\"]\n",
    "error = data[\"HIERARCH ESO QC CCF RV ERROR\"]\n",
    "print(RV)\n",
    "print(error)"
   ]
  },
  {
   "cell_type": "markdown",
   "id": "d61b317e",
   "metadata": {},
   "source": [
    "## 6"
   ]
  },
  {
   "cell_type": "code",
   "execution_count": 9,
   "id": "adbad50d",
   "metadata": {},
   "outputs": [
    {
     "name": "stdout",
     "output_type": "stream",
     "text": [
      "-16.6496691226057\n",
      "8.46082588302468e-05\n"
     ]
    }
   ],
   "source": [
    "data = fits.getheader(\"6/r.ESPRE.2022-07-06T09_28_44.913_CCF_A.fits\")\n",
    "RV = data[\"HIERARCH ESO QC CCF RV\"]\n",
    "error = data[\"HIERARCH ESO QC CCF RV ERROR\"]\n",
    "print(RV)\n",
    "print(error)"
   ]
  }
 ],
 "metadata": {
  "kernelspec": {
   "display_name": "Python 3",
   "language": "python",
   "name": "python3"
  },
  "language_info": {
   "codemirror_mode": {
    "name": "ipython",
    "version": 3
   },
   "file_extension": ".py",
   "mimetype": "text/x-python",
   "name": "python",
   "nbconvert_exporter": "python",
   "pygments_lexer": "ipython3",
   "version": "3.8.8"
  }
 },
 "nbformat": 4,
 "nbformat_minor": 5
}
