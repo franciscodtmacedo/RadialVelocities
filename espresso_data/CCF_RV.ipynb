{
 "cells": [
  {
   "cell_type": "markdown",
   "id": "9f2a4c00",
   "metadata": {},
   "source": [
    "## 1"
   ]
  },
  {
   "cell_type": "code",
   "execution_count": 1,
   "id": "7669ec3c",
   "metadata": {},
   "outputs": [
    {
     "name": "stdout",
     "output_type": "stream",
     "text": [
      "59766.39409952\n",
      "-16.6486326637339\n",
      "8.3746237634394e-05\n"
     ]
    }
   ],
   "source": [
    "import numpy as np\n",
    "from astropy.io import fits\n",
    "\n",
    "data = fits.getheader(\"1/r.ESPRE.2022-07-06T09_27_30.199_CCF_A.fits\")\n",
    "RV = data[\"HIERARCH ESO QC CCF RV\"]\n",
    "error = data[\"HIERARCH ESO QC CCF RV ERROR\"]\n",
    "time = data[\"MJD-OBS\"]\n",
    "print(time)\n",
    "print(RV)\n",
    "print(error)"
   ]
  },
  {
   "cell_type": "markdown",
   "id": "e66d1f48",
   "metadata": {},
   "source": [
    "## 2"
   ]
  },
  {
   "cell_type": "code",
   "execution_count": 2,
   "id": "465b6c0a",
   "metadata": {},
   "outputs": [
    {
     "name": "stdout",
     "output_type": "stream",
     "text": [
      "59574.01154767\n",
      "-16.646123709192\n",
      "0.000108262586539199\n"
     ]
    }
   ],
   "source": [
    "data = fits.getheader(\"2/r.ESPRE.2021-12-26T00_16_37.719_CCF_A.fits\")\n",
    "RV = data[\"HIERARCH ESO QC CCF RV\"]\n",
    "error = data[\"HIERARCH ESO QC CCF RV ERROR\"]\n",
    "time = data[\"MJD-OBS\"]\n",
    "print(time)\n",
    "print(RV)\n",
    "print(error)"
   ]
  },
  {
   "cell_type": "markdown",
   "id": "0543907b",
   "metadata": {},
   "source": [
    "## 3"
   ]
  },
  {
   "cell_type": "code",
   "execution_count": 3,
   "id": "6093aa90",
   "metadata": {},
   "outputs": [
    {
     "name": "stdout",
     "output_type": "stream",
     "text": [
      "59606.03290452\n",
      "-16.6472834284326\n",
      "9.83589859648827e-05\n"
     ]
    }
   ],
   "source": [
    "data = fits.getheader(\"3/r.ESPRE.2022-01-27T00_47_22.951_CCF_A.fits\")\n",
    "RV = data[\"HIERARCH ESO QC CCF RV\"]\n",
    "error = data[\"HIERARCH ESO QC CCF RV ERROR\"]\n",
    "time = data[\"MJD-OBS\"]\n",
    "print(time)\n",
    "print(RV)\n",
    "print(error)"
   ]
  },
  {
   "cell_type": "markdown",
   "id": "67123aeb",
   "metadata": {},
   "source": [
    "## 4"
   ]
  },
  {
   "cell_type": "code",
   "execution_count": 4,
   "id": "8d067761",
   "metadata": {},
   "outputs": [
    {
     "name": "stdout",
     "output_type": "stream",
     "text": [
      "59623.02443698\n",
      "-16.6466334946945\n",
      "0.000111158607268523\n"
     ]
    }
   ],
   "source": [
    "data = fits.getheader(\"4/r.ESPRE.2022-02-13T00_35_11.355_CCF_A.fits\")\n",
    "RV = data[\"HIERARCH ESO QC CCF RV\"]\n",
    "error = data[\"HIERARCH ESO QC CCF RV ERROR\"]\n",
    "time = data[\"MJD-OBS\"]\n",
    "print(time)\n",
    "print(RV)\n",
    "print(error)"
   ]
  },
  {
   "cell_type": "markdown",
   "id": "1198cacb",
   "metadata": {},
   "source": [
    "## 5"
   ]
  },
  {
   "cell_type": "code",
   "execution_count": 5,
   "id": "5ae28a92",
   "metadata": {
    "scrolled": true
   },
   "outputs": [
    {
     "name": "stdout",
     "output_type": "stream",
     "text": [
      "59744.37895858\n",
      "-16.6482856364796\n",
      "0.000123709214790978\n"
     ]
    }
   ],
   "source": [
    "data = fits.getheader(\"5/r.ESPRE.2022-06-14T09_05_42.021_CCF_A.fits\")\n",
    "RV = data[\"HIERARCH ESO QC CCF RV\"]\n",
    "error = data[\"HIERARCH ESO QC CCF RV ERROR\"]\n",
    "time = data[\"MJD-OBS\"]\n",
    "print(time)\n",
    "print(RV)\n",
    "print(error)"
   ]
  },
  {
   "cell_type": "markdown",
   "id": "d61b317e",
   "metadata": {},
   "source": [
    "## 6"
   ]
  },
  {
   "cell_type": "code",
   "execution_count": 6,
   "id": "adbad50d",
   "metadata": {},
   "outputs": [
    {
     "name": "stdout",
     "output_type": "stream",
     "text": [
      "59766.39496427\n",
      "-16.6496691226057\n",
      "8.46082588302468e-05\n"
     ]
    }
   ],
   "source": [
    "data = fits.getheader(\"6/r.ESPRE.2022-07-06T09_28_44.913_CCF_A.fits\")\n",
    "RV = data[\"HIERARCH ESO QC CCF RV\"]\n",
    "error = data[\"HIERARCH ESO QC CCF RV ERROR\"]\n",
    "time = data[\"MJD-OBS\"]\n",
    "print(time)\n",
    "print(RV)\n",
    "print(error)"
   ]
  },
  {
   "cell_type": "markdown",
   "id": "ac0cf220",
   "metadata": {},
   "source": [
    "## 7"
   ]
  },
  {
   "cell_type": "code",
   "execution_count": 7,
   "id": "75634a6e",
   "metadata": {},
   "outputs": [
    {
     "name": "stdout",
     "output_type": "stream",
     "text": [
      "59497.23444827\n",
      "-16.6462712093934\n",
      "0.000124406453040529\n"
     ]
    }
   ],
   "source": [
    "data = fits.getheader(\"7/r.ESPRE.2021-10-10T05_37_36.331_CCF_A.fits\")\n",
    "RV = data[\"HIERARCH ESO QC CCF RV\"]\n",
    "error = data[\"HIERARCH ESO QC CCF RV ERROR\"]\n",
    "time = data[\"MJD-OBS\"]\n",
    "print(time)\n",
    "print(RV)\n",
    "print(error)"
   ]
  },
  {
   "cell_type": "markdown",
   "id": "3831b4b5",
   "metadata": {},
   "source": [
    "## 8"
   ]
  },
  {
   "cell_type": "code",
   "execution_count": 8,
   "id": "b677a776",
   "metadata": {},
   "outputs": [
    {
     "name": "stdout",
     "output_type": "stream",
     "text": [
      "59497.23917186\n",
      "-16.6462681832666\n",
      "0.000145436280818017\n"
     ]
    }
   ],
   "source": [
    "data = fits.getheader(\"8/r.ESPRE.2021-10-10T05_44_24.449_CCF_A.fits\")\n",
    "RV = data[\"HIERARCH ESO QC CCF RV\"]\n",
    "error = data[\"HIERARCH ESO QC CCF RV ERROR\"]\n",
    "time = data[\"MJD-OBS\"]\n",
    "print(time)\n",
    "print(RV)\n",
    "print(error)"
   ]
  },
  {
   "cell_type": "markdown",
   "id": "950bb030",
   "metadata": {},
   "source": [
    "## 9"
   ]
  },
  {
   "cell_type": "code",
   "execution_count": 9,
   "id": "5312ecfb",
   "metadata": {},
   "outputs": [
    {
     "name": "stdout",
     "output_type": "stream",
     "text": [
      "59511.08437573\n",
      "-16.6477203089659\n",
      "0.000115356917631661\n"
     ]
    }
   ],
   "source": [
    "data = fits.getheader(\"9/r.ESPRE.2021-10-24T02_01_30.063_CCF_A.fits\")\n",
    "RV = data[\"HIERARCH ESO QC CCF RV\"]\n",
    "error = data[\"HIERARCH ESO QC CCF RV ERROR\"]\n",
    "time = data[\"MJD-OBS\"]\n",
    "print(time)\n",
    "print(RV)\n",
    "print(error)"
   ]
  },
  {
   "cell_type": "markdown",
   "id": "af98ae65",
   "metadata": {},
   "source": [
    "## 10"
   ]
  },
  {
   "cell_type": "code",
   "execution_count": 10,
   "id": "49643c80",
   "metadata": {},
   "outputs": [
    {
     "name": "stdout",
     "output_type": "stream",
     "text": [
      "59518.2914831\n",
      "-16.6453224115935\n",
      "0.000111630694549794\n"
     ]
    }
   ],
   "source": [
    "data = fits.getheader(\"10/r.ESPRE.2021-10-31T06_59_44.140_CCF_A.fits\")\n",
    "RV = data[\"HIERARCH ESO QC CCF RV\"]\n",
    "error = data[\"HIERARCH ESO QC CCF RV ERROR\"]\n",
    "time = data[\"MJD-OBS\"]\n",
    "print(time)\n",
    "print(RV)\n",
    "print(error)"
   ]
  },
  {
   "cell_type": "markdown",
   "id": "fe6e52ee",
   "metadata": {},
   "source": [
    "## 11"
   ]
  },
  {
   "cell_type": "code",
   "execution_count": 11,
   "id": "df4a36be",
   "metadata": {},
   "outputs": [
    {
     "name": "stdout",
     "output_type": "stream",
     "text": [
      "59522.09072347\n",
      "-16.6465303852105\n",
      "7.64553099296065e-05\n"
     ]
    }
   ],
   "source": [
    "data = fits.getheader(\"11/r.ESPRE.2021-11-04T02_10_38.508_CCF_A.fits\")\n",
    "RV = data[\"HIERARCH ESO QC CCF RV\"]\n",
    "error = data[\"HIERARCH ESO QC CCF RV ERROR\"]\n",
    "time = data[\"MJD-OBS\"]\n",
    "print(time)\n",
    "print(RV)\n",
    "print(error)"
   ]
  },
  {
   "cell_type": "markdown",
   "id": "275e30c1",
   "metadata": {},
   "source": [
    "## 12"
   ]
  },
  {
   "cell_type": "code",
   "execution_count": 12,
   "id": "71e59006",
   "metadata": {},
   "outputs": [
    {
     "name": "stdout",
     "output_type": "stream",
     "text": [
      "59522.09166128\n",
      "-16.646772565358\n",
      "7.60350189952361e-05\n"
     ]
    }
   ],
   "source": [
    "data = fits.getheader(\"12/r.ESPRE.2021-11-04T02_11_59.535_CCF_A.fits\")\n",
    "RV = data[\"HIERARCH ESO QC CCF RV\"]\n",
    "error = data[\"HIERARCH ESO QC CCF RV ERROR\"]\n",
    "time = data[\"MJD-OBS\"]\n",
    "print(time)\n",
    "print(RV)\n",
    "print(error)"
   ]
  },
  {
   "cell_type": "markdown",
   "id": "c6071d95",
   "metadata": {},
   "source": [
    "## 13"
   ]
  },
  {
   "cell_type": "code",
   "execution_count": 13,
   "id": "454707dd",
   "metadata": {},
   "outputs": [
    {
     "name": "stdout",
     "output_type": "stream",
     "text": [
      "59522.09260096\n",
      "-16.6467324465498\n",
      "7.71864961056351e-05\n"
     ]
    }
   ],
   "source": [
    "data = fits.getheader(\"13/r.ESPRE.2021-11-04T02_13_20.723_CCF_A.fits\")\n",
    "RV = data[\"HIERARCH ESO QC CCF RV\"]\n",
    "error = data[\"HIERARCH ESO QC CCF RV ERROR\"]\n",
    "time = data[\"MJD-OBS\"]\n",
    "print(time)\n",
    "print(RV)\n",
    "print(error)"
   ]
  },
  {
   "cell_type": "markdown",
   "id": "70164d31",
   "metadata": {},
   "source": [
    "## 14"
   ]
  },
  {
   "cell_type": "code",
   "execution_count": 14,
   "id": "ed521e03",
   "metadata": {},
   "outputs": [
    {
     "name": "stdout",
     "output_type": "stream",
     "text": [
      "59526.26538697\n",
      "-16.6459847676206\n",
      "7.87396081683763e-05\n"
     ]
    }
   ],
   "source": [
    "data = fits.getheader(\"14/r.ESPRE.2021-11-08T06_22_09.434_CCF_A.fits\")\n",
    "RV = data[\"HIERARCH ESO QC CCF RV\"]\n",
    "error = data[\"HIERARCH ESO QC CCF RV ERROR\"]\n",
    "time = data[\"MJD-OBS\"]\n",
    "print(time)\n",
    "print(RV)\n",
    "print(error)"
   ]
  },
  {
   "cell_type": "markdown",
   "id": "87e53d3c",
   "metadata": {},
   "source": [
    "## 15"
   ]
  },
  {
   "cell_type": "code",
   "execution_count": 15,
   "id": "05406fcd",
   "metadata": {},
   "outputs": [
    {
     "name": "stdout",
     "output_type": "stream",
     "text": [
      "59532.04645088\n",
      "-16.6462186821493\n",
      "7.45094972154348e-05\n"
     ]
    }
   ],
   "source": [
    "data = fits.getheader(\"15/r.ESPRE.2021-11-14T01_06_53.356_CCF_A.fits\")\n",
    "RV = data[\"HIERARCH ESO QC CCF RV\"]\n",
    "error = data[\"HIERARCH ESO QC CCF RV ERROR\"]\n",
    "time = data[\"MJD-OBS\"]\n",
    "print(time)\n",
    "print(RV)\n",
    "print(error)"
   ]
  },
  {
   "cell_type": "markdown",
   "id": "6390dce8",
   "metadata": {},
   "source": [
    "## 16"
   ]
  },
  {
   "cell_type": "code",
   "execution_count": 16,
   "id": "2e46fa30",
   "metadata": {},
   "outputs": [
    {
     "name": "stdout",
     "output_type": "stream",
     "text": [
      "59538.15181812\n",
      "-16.6470010480071\n",
      "9.96062647748902e-05\n"
     ]
    }
   ],
   "source": [
    "data = fits.getheader(\"16/r.ESPRE.2021-11-20T03_38_37.086_CCF_A.fits\")\n",
    "RV = data[\"HIERARCH ESO QC CCF RV\"]\n",
    "error = data[\"HIERARCH ESO QC CCF RV ERROR\"]\n",
    "time = data[\"MJD-OBS\"]\n",
    "print(time)\n",
    "print(RV)\n",
    "print(error)"
   ]
  },
  {
   "cell_type": "markdown",
   "id": "6be79122",
   "metadata": {},
   "source": [
    "## 17"
   ]
  },
  {
   "cell_type": "code",
   "execution_count": 17,
   "id": "9ca71a49",
   "metadata": {},
   "outputs": [
    {
     "name": "stdout",
     "output_type": "stream",
     "text": [
      "59544.13757025\n",
      "-16.6469230171992\n",
      "7.4212151276575e-05\n"
     ]
    }
   ],
   "source": [
    "data = fits.getheader(\"17/r.ESPRE.2021-11-26T03_18_06.070_CCF_A.fits\")\n",
    "RV = data[\"HIERARCH ESO QC CCF RV\"]\n",
    "error = data[\"HIERARCH ESO QC CCF RV ERROR\"]\n",
    "time = data[\"MJD-OBS\"]\n",
    "print(time)\n",
    "print(RV)\n",
    "print(error)"
   ]
  },
  {
   "cell_type": "markdown",
   "id": "0cc8cc70",
   "metadata": {},
   "source": [
    "## 18"
   ]
  },
  {
   "cell_type": "code",
   "execution_count": 18,
   "id": "65e24475",
   "metadata": {},
   "outputs": [
    {
     "name": "stdout",
     "output_type": "stream",
     "text": [
      "59550.16640017\n",
      "-16.6480682537138\n",
      "7.28515973475319e-05\n"
     ]
    }
   ],
   "source": [
    "data = fits.getheader(\"18/r.ESPRE.2021-12-02T03_59_36.975_CCF_A.fits\")\n",
    "RV = data[\"HIERARCH ESO QC CCF RV\"]\n",
    "error = data[\"HIERARCH ESO QC CCF RV ERROR\"]\n",
    "time = data[\"MJD-OBS\"]\n",
    "print(time)\n",
    "print(RV)\n",
    "print(error)"
   ]
  },
  {
   "cell_type": "markdown",
   "id": "7559f5dd",
   "metadata": {},
   "source": [
    "## 19"
   ]
  },
  {
   "cell_type": "code",
   "execution_count": 19,
   "id": "4ada5f0d",
   "metadata": {},
   "outputs": [
    {
     "name": "stdout",
     "output_type": "stream",
     "text": [
      "59556.08982015\n",
      "-16.6465857286125\n",
      "9.24073898670524e-05\n"
     ]
    }
   ],
   "source": [
    "data = fits.getheader(\"19/r.ESPRE.2021-12-08T02_09_20.461_CCF_A.fits\")\n",
    "RV = data[\"HIERARCH ESO QC CCF RV\"]\n",
    "error = data[\"HIERARCH ESO QC CCF RV ERROR\"]\n",
    "time = data[\"MJD-OBS\"]\n",
    "print(time)\n",
    "print(RV)\n",
    "print(error)"
   ]
  },
  {
   "cell_type": "markdown",
   "id": "2e125222",
   "metadata": {},
   "source": [
    "## 20"
   ]
  },
  {
   "cell_type": "code",
   "execution_count": 20,
   "id": "409fbb07",
   "metadata": {},
   "outputs": [
    {
     "name": "stdout",
     "output_type": "stream",
     "text": [
      "59563.11384737\n",
      "-16.6462589246672\n",
      "7.35314928928401e-05\n"
     ]
    }
   ],
   "source": [
    "data = fits.getheader(\"20/r.ESPRE.2021-12-15T02_43_56.413_CCF_A.fits\")\n",
    "RV = data[\"HIERARCH ESO QC CCF RV\"]\n",
    "error = data[\"HIERARCH ESO QC CCF RV ERROR\"]\n",
    "time = data[\"MJD-OBS\"]\n",
    "print(time)\n",
    "print(RV)\n",
    "print(error)"
   ]
  }
 ],
 "metadata": {
  "kernelspec": {
   "display_name": "Python 3",
   "language": "python",
   "name": "python3"
  },
  "language_info": {
   "codemirror_mode": {
    "name": "ipython",
    "version": 3
   },
   "file_extension": ".py",
   "mimetype": "text/x-python",
   "name": "python",
   "nbconvert_exporter": "python",
   "pygments_lexer": "ipython3",
   "version": "3.8.8"
  }
 },
 "nbformat": 4,
 "nbformat_minor": 5
}
